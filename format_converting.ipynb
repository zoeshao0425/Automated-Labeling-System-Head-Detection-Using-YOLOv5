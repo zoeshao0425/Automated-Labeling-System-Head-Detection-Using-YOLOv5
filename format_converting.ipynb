{
 "cells": [
  {
   "cell_type": "markdown",
   "id": "5515f1a2",
   "metadata": {},
   "source": [
    "## Converting data format "
   ]
  },
  {
   "cell_type": "markdown",
   "id": "706d11a6",
   "metadata": {
    "scrolled": false
   },
   "source": [
    "Because YOLOv5 model requires training data in the following format in a TXT file: label class number, x coordinate of the center of the bounding box, y coordinate of the center of the bounding box, width of the bounding box, height of the bounding box, this file is used to convert data format from XML to TXT of the annotation files in Hollywood Heads dataset."
   ]
  },
  {
   "cell_type": "markdown",
   "id": "70a7651b",
   "metadata": {},
   "source": [
    "1. Go to the folder where XML files are saved"
   ]
  },
  {
   "cell_type": "code",
   "execution_count": 5,
   "id": "0ef65aa7",
   "metadata": {},
   "outputs": [
    {
     "name": "stdout",
     "output_type": "stream",
     "text": [
      "C:\\Users\\Zoe Shao\\Desktop\\2022 Spring\\CSCI 153\\CS153 project\\datasets\\HollywoodHeads\\Training1\n"
     ]
    }
   ],
   "source": [
    "cd C:\\Users\\Zoe Shao\\Desktop\\2022 Spring\\CSCI 153\\CS153 project\\datasets\\HollywoodHeads\\Training1"
   ]
  },
  {
   "cell_type": "markdown",
   "id": "92dd2502",
   "metadata": {},
   "source": [
    "2. Convert file format from XML to TXT by extracting useful information, and writing new files"
   ]
  },
  {
   "cell_type": "code",
   "execution_count": 6,
   "id": "753b3d33",
   "metadata": {},
   "outputs": [],
   "source": [
    "import regex\n",
    "import os\n",
    "from bs4 import BeautifulSoup\n",
    "\n",
    "# path to the folder containing XML files\n",
    "path = r\"C:\\Users\\Zoe Shao\\Desktop\\2022 Spring\\CSCI 153\\CS153 project\\datasets\\HollywoodHeads\\Training2\"\n",
    "\n",
    "# XML files are extracted and stored in a list\n",
    "xml_files = [f for f in os.listdir(path) if f.endswith('.xml')]\n",
    "\n",
    "for xml_file in xml_files:\n",
    "\n",
    "    with open(xml_file, 'r') as f:\n",
    "        data = f.read()\n",
    "\n",
    "    # Passing the stored data inside\n",
    "    # the beautifulsoup parser, storing\n",
    "    # the returned object\n",
    "    Bs_data = BeautifulSoup(data, \"xml\")\n",
    "    \n",
    "    # Extracting the sizes of the pictures\n",
    "    size_width = \"\"\n",
    "    b_xmin = Bs_data.find_all('width')\n",
    "    for string in b_xmin:\n",
    "        size_width = float(string.text)\n",
    "    \n",
    "    size_height = \"\"\n",
    "    b_xmin = Bs_data.find_all('height')\n",
    "    for string in b_xmin:\n",
    "        size_height = float(string.text)\n",
    "    \n",
    "    \n",
    "    # Finding all instances of tag\n",
    "    # `xmin` and save it for all\n",
    "    # bounding boxes\n",
    "    b_xmin = Bs_data.find_all('xmin')\n",
    "    xmin = []\n",
    "    for string in b_xmin:\n",
    "        string = str(string.text)\n",
    "        s = [float(s) for s in regex.findall(r'-?\\d+\\.?\\d*', string)]\n",
    "        xmin.append(float(s[0]))\n",
    "\n",
    "    \n",
    "    # Finding all instances of tag\n",
    "    # `xmax` and save it for all\n",
    "    # bounding boxes\n",
    "    b_xmax = Bs_data.find_all('xmax')\n",
    "    xmax = []\n",
    "    for string in b_xmax:\n",
    "        string = str(string.text)\n",
    "        s = [float(s) for s in regex.findall(r'-?\\d+\\.?\\d*', string)]\n",
    "        xmax.append(float(s[0]))\n",
    "\n",
    "    \n",
    "    # Finding all instances of tag\n",
    "    # `ymin` and save it for all\n",
    "    # bounding boxes\n",
    "    b_ymin = Bs_data.find_all('ymin')\n",
    "    ymin = []\n",
    "    for string in b_ymin:\n",
    "        string = str(string.text)\n",
    "        s = [float(s) for s in regex.findall(r'-?\\d+\\.?\\d*', string)]\n",
    "        ymin.append(float(s[0]))\n",
    "\n",
    "    \n",
    "    # Finding all instances of tag\n",
    "    # `ymax` and save it for all\n",
    "    # bounding boxes\n",
    "    b_ymax = Bs_data.find_all('ymax')\n",
    "    ymax = []\n",
    "    for string in b_ymax:\n",
    "        string = str(string.text)\n",
    "        s = [float(s) for s in regex.findall(r'-?\\d+\\.?\\d*', string)]\n",
    "        ymax.append(float(s[0]))\n",
    "\n",
    "    # Use xmin, xmax, ymin, ymax\n",
    "    # to calculate the center(s) \n",
    "    # and size(s) of bounding box(es)\n",
    "    center_x = []\n",
    "    center_y = []\n",
    "    width = []\n",
    "    height = []\n",
    "    for i in range(len(ymin)):\n",
    "        center_x.append(str((xmax[i]+xmin[i])/2/size_width))\n",
    "        center_y.append(str((ymax[i]+ymin[i])/2/size_height))\n",
    "        width.append(str((xmax[i]-xmin[i])/size_width))\n",
    "        height.append(str((ymax[i]-ymin[i])/size_height))\n",
    "\n",
    "    f.close()\n",
    "    \n",
    "    # the name of txt files\n",
    "    txt_file = xml_file[:-3] + \"txt\"\n",
    "\n",
    "    # Write the information needed to txt files\n",
    "    # and save it with the same name as xml files\n",
    "    with open(txt_file, 'w') as f:\n",
    "        for i in range(len(center_x)):\n",
    "            f.write('0 ' + center_x[i] + \" \" + center_y[i] + \" \" + width[i] + \" \" + height[i] + \"\\n\")\n",
    "\n"
   ]
  },
  {
   "cell_type": "code",
   "execution_count": null,
   "id": "73bbf6f2",
   "metadata": {
    "scrolled": true
   },
   "outputs": [],
   "source": []
  },
  {
   "cell_type": "code",
   "execution_count": null,
   "id": "9e529dac",
   "metadata": {},
   "outputs": [],
   "source": []
  },
  {
   "cell_type": "code",
   "execution_count": null,
   "id": "45793c90",
   "metadata": {},
   "outputs": [],
   "source": []
  },
  {
   "cell_type": "code",
   "execution_count": null,
   "id": "756f782d",
   "metadata": {},
   "outputs": [],
   "source": []
  },
  {
   "cell_type": "code",
   "execution_count": null,
   "id": "5ce98c82",
   "metadata": {},
   "outputs": [],
   "source": []
  },
  {
   "cell_type": "code",
   "execution_count": null,
   "id": "36ce4d38",
   "metadata": {},
   "outputs": [],
   "source": []
  },
  {
   "cell_type": "code",
   "execution_count": null,
   "id": "452f1dd3",
   "metadata": {},
   "outputs": [],
   "source": []
  }
 ],
 "metadata": {
  "kernelspec": {
   "display_name": "Python 3",
   "language": "python",
   "name": "python3"
  },
  "language_info": {
   "codemirror_mode": {
    "name": "ipython",
    "version": 3
   },
   "file_extension": ".py",
   "mimetype": "text/x-python",
   "name": "python",
   "nbconvert_exporter": "python",
   "pygments_lexer": "ipython3",
   "version": "3.8.8"
  }
 },
 "nbformat": 4,
 "nbformat_minor": 5
}
